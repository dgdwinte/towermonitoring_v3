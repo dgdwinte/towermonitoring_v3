{
 "cells": [
  {
   "cell_type": "code",
   "execution_count": null,
   "metadata": {},
   "outputs": [],
   "source": [
    "import pandas as pd\n",
    "from PIL import Image, ImageDraw, ImageFont\n",
    "import ast\n",
    "from matplotlib import pyplot as plt\n",
    "\n",
    "df= pd.read_csv('.\\\\data3\\\\merge_correct_annotations_20240512.csv')\n",
    "\n",
    "# Convert a string representation of list of dictionaries to actual list of dictionaries\n",
    "df['objects'] = df['objects'].apply(ast.literal_eval)\n",
    "\n",
    "# Now apply the original extraction code\n",
    "df['boxes'] = df['objects'].apply(lambda x: [item['box'] for item in x])\n",
    "df['labels'] = df['objects'].apply(lambda x: [item['class'] for item in x])\n",
    "\n",
    "df"
   ]
  },
  {
   "cell_type": "code",
   "execution_count": null,
   "metadata": {},
   "outputs": [],
   "source": [
    "# Make a sample file to display the images in a grid.\n",
    "num_rows = 5  \n",
    "num_columns=5\n",
    "total= num_rows * num_columns\n",
    "sampled_df = df.iloc[25:49]\n",
    "sampled_df"
   ]
  },
  {
   "cell_type": "code",
   "execution_count": null,
   "metadata": {},
   "outputs": [],
   "source": [
    "import matplotlib.pyplot as plt\n",
    "from PIL import Image, ImageDraw, ImageFont\n",
    "\n",
    "fig, axes = plt.subplots(num_rows, num_columns, figsize=(150, 150))\n",
    "axes = axes.flatten()\n",
    "\n",
    "for ax, image, boxes, labels in zip(axes, sampled_df['image'], sampled_df['boxes'], sampled_df['labels']):\n",
    "    # Convert each bounding box to integers\n",
    "    boxes = [[int(coord) for coord in bbox] for bbox in boxes]\n",
    "\n",
    "    img = Image.open('.\\\\data3\\\\' + image)\n",
    "    draw = ImageDraw.Draw(img)\n",
    "    \n",
    "    for box, label in zip(boxes, labels):\n",
    "        x_min, y_min, x_max, y_max = box\n",
    "        if x_min < x_max:\n",
    "            x_0 = x_min\n",
    "            x_1 = x_max\n",
    "        else:\n",
    "            x_0 = x_max\n",
    "            x_1 = x_min\n",
    "        if y_min < y_max:\n",
    "            y_0 = y_min\n",
    "            y_1 = y_max\n",
    "        else:\n",
    "            y_0 = y_max\n",
    "            y_1 = y_min\n",
    "\n",
    "        box = [x_0, y_0, x_1, y_1]\n",
    "        draw.rectangle(box, outline=\"red\", width=2)\n",
    "\n",
    "        text = str(label)\n",
    "        font = ImageFont.truetype(\"arial.ttf\", size=10)\n",
    "        text_position = (box[0]+10, box[3]-40)\n",
    "        draw.text(text_position, text, fill=\"red\", font=font)\n",
    "\n",
    "    ax.imshow(img)\n",
    "    ax.axis('off')\n",
    "\n",
    "plt.show()\n",
    "\n"
   ]
  }
 ],
 "metadata": {
  "kernelspec": {
   "display_name": "Python 3",
   "language": "python",
   "name": "python3"
  },
  "language_info": {
   "codemirror_mode": {
    "name": "ipython",
    "version": 3
   },
   "file_extension": ".py",
   "mimetype": "text/x-python",
   "name": "python",
   "nbconvert_exporter": "python",
   "pygments_lexer": "ipython3",
   "version": "3.12.3"
  }
 },
 "nbformat": 4,
 "nbformat_minor": 2
}
