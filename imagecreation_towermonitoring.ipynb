{
 "cells": [
  {
   "cell_type": "markdown",
   "metadata": {},
   "source": [
    "# Step 1: Imports"
   ]
  },
  {
   "cell_type": "code",
   "execution_count": 1,
   "metadata": {},
   "outputs": [],
   "source": [
    "import os\n",
    "import math\n",
    "import cv2\n",
    "from imagecreation_lib import ImageCreationLib\n",
    "from PIL import Image, ImageDraw\n"
   ]
  },
  {
   "cell_type": "markdown",
   "metadata": {
    "vscode": {
     "languageId": "plaintext"
    }
   },
   "source": [
    "# Step 2: Create patches with original size\n",
    "\n",
    "A set of patches is created from every image of size 512x512. Data augmentation is done by creating additional patches clockwise, counterclockwise, horizontal flipping, vertical flipping and adjusting brightness with factor 1.2. \n"
   ]
  },
  {
   "cell_type": "code",
   "execution_count": 4,
   "metadata": {},
   "outputs": [],
   "source": [
    "SRC_RELPATH_IMAGES_HEALTHYTOWERS = \"..\\\\Data\\\\onbeschadigdemasten\"\n",
    "SCR_ABSPATH_IMAGES_HEALTHYTOWERS = os.path.abspath(SRC_RELPATH_IMAGES_HEALTHYTOWERS)\n",
    "\n",
    "#TAR_RELPATH_PATCHES_HEALTHYTOWERS = \".\\\\data\\\\rgb_dataset_multipatches_healthytowers\"\n",
    "MY_PATH=\"C:\\\\Test\"\n",
    "TAR_ABSPATH_PATCHES_HEALTHYTOWERS = os.path.abspath(TAR_RELPATH_PATCHES_HEALTHYTOWERS)\n",
    "\n",
    "# Get a list with all jpeg files from the directory \n",
    "jpegfiles = ImageCreationLib.get_jpeg_files(SCR_ABSPATH_IMAGES_HEALTHYTOWERS)\n",
    "\n",
    "# Create a patches from the original images in 4 directions\n",
    "# patches = extract_patches(jpegfiles[0])\n",
    "\n",
    "patch_size = (512, 512)\n",
    "\n",
    "for file in jpegfiles: \n",
    "    patches = ImageCreationLib.extract_patches_originalsize(file, patch_size)\n",
    "    # Write all patches to the target location \n",
    "    for key in patches.keys():\n",
    "        #target_path = TAR_ABSPATH_PATCHES_HEALTHYTOWERS+\"\\\\\"+key\n",
    "        cv2.imwrite(MY_PATH+\"\\\\\"+key, patches[key])\n",
    "\n",
    "#patches = ImageCreationLib.extract_patches_zoomedin(jpegfiles[0], patch_size)\n"
   ]
  },
  {
   "cell_type": "markdown",
   "metadata": {},
   "source": [
    "Step 3: Create random patches (zoom in / zoom out)"
   ]
  },
  {
   "cell_type": "code",
   "execution_count": null,
   "metadata": {},
   "outputs": [],
   "source": []
  },
  {
   "cell_type": "code",
   "execution_count": null,
   "metadata": {},
   "outputs": [],
   "source": []
  }
 ],
 "metadata": {
  "kernelspec": {
   "display_name": ".venv",
   "language": "python",
   "name": "python3"
  },
  "language_info": {
   "codemirror_mode": {
    "name": "ipython",
    "version": 3
   },
   "file_extension": ".py",
   "mimetype": "text/x-python",
   "name": "python",
   "nbconvert_exporter": "python",
   "pygments_lexer": "ipython3",
   "version": "3.12.3"
  }
 },
 "nbformat": 4,
 "nbformat_minor": 2
}
